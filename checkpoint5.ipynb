{
 "cells": [
  {
   "cell_type": "code",
   "execution_count": 65,
   "id": "6dcf2c5c",
   "metadata": {},
   "outputs": [
    {
     "name": "stdout",
     "output_type": "stream",
     "text": [
      "['x y z']\n",
      "(1, 50, 3)\n"
     ]
    }
   ],
   "source": [
    "#question 1\n",
    "class Point3D(object):\n",
    "    def __init__(self, x, y, z):\n",
    "        self.x = x\n",
    "        self.y = y\n",
    "        self.z = z\n",
    "    def __repr__(self):\n",
    "        return \"(%d, %d, %d)\" % (self.x, self.y, self.z)\n",
    "ch=(\"x \"+\"y \"+\"z\")\n",
    "print(ch.split(\",\",))\n",
    "my_point = Point3D(1,50,3)\n",
    "print(my_point) \n",
    "\n",
    "        \n"
   ]
  },
  {
   "cell_type": "code",
   "execution_count": 7,
   "id": "5a4ddc50",
   "metadata": {},
   "outputs": [
    {
     "name": "stdout",
     "output_type": "stream",
     "text": [
      "Enter the length: 3\n",
      "Enter the width: 4\n",
      "the area=  12.0\n",
      "the perimeter=  14.0\n"
     ]
    }
   ],
   "source": [
    "#question 2\n",
    "class rectangle(object):\n",
    "    def __init__(self,width,length):\n",
    "        self.width=width\n",
    "        self.length=length\n",
    "y=float(input(\"Enter the length: \"))\n",
    "x=float(input(\"Enter the width: \"))\n",
    "my_rectangle=rectangle(x,y)\n",
    "n=x*y\n",
    "print(\"the area= \",n)\n",
    "n1=(x+y)*2\n",
    "print(\"the perimeter= \",n1)\n"
   ]
  },
  {
   "cell_type": "code",
   "execution_count": 13,
   "id": "f22d61ee",
   "metadata": {},
   "outputs": [
    {
     "name": "stdout",
     "output_type": "stream",
     "text": [
      "Enter radius5\n",
      "l'aire est de  79\n",
      "le périmètre est de  31\n",
      "4\n",
      "3\n",
      "Inside\n"
     ]
    }
   ],
   "source": [
    "#question 3\n",
    "import math\n",
    "class Circle():\n",
    "    def __init__(self, r):\n",
    "        self.radius = r\n",
    "    def area(self):\n",
    "        return round(self.radius** 2*math.pi)\n",
    "    def perimeter(self):\n",
    "        return round(2 *self.radius*math.pi)\n",
    "\n",
    "radi = int(input(\"Enter radius\"))\n",
    "new_Circle = Circle(radi)\n",
    "print(\"l'aire est de \", new_Circle.area())\n",
    "print(\"le périmètre est de \", new_Circle.perimeter())\n",
    "def isInside(new_circle_x, new_circle_y, rad, x, y):\n",
    "    if ((a_x - new_circle_x) * (a_x - new_circle_x) +\n",
    "        (a_y - new_circle_y) * (a_y - new_circle_y) <= rad * rad):\n",
    "        return True;\n",
    "    else:\n",
    "        return False;\n",
    "a_x = int(input());\n",
    "a_y = int(input());\n",
    "new_circle_x = 0;\n",
    "new_circle_y = 1;\n",
    "rad = radi;\n",
    "if(isInside(new_circle_x, new_circle_y, rad, a_x, a_y)):\n",
    "    print(\"Inside\");\n",
    "else:\n",
    "    print(\"Outside\");\n"
   ]
  },
  {
   "cell_type": "code",
   "execution_count": null,
   "id": "966830b3",
   "metadata": {},
   "outputs": [],
   "source": [
    "#question 4\n",
    "class bank():\n",
    "    def __init__(self,balance):\n",
    "        self.balance=balance\n",
    "    def retrait(self,withdraw):\n",
    "        self.withdraw=withdraw\n",
    "    def depots (self,)"
   ]
  },
  {
   "cell_type": "code",
   "execution_count": 4,
   "id": "1386d42c",
   "metadata": {},
   "outputs": [
    {
     "name": "stdout",
     "output_type": "stream",
     "text": [
      "Enter amount to be Deposited: 50\n",
      " Amount Deposited: 50.0\n",
      "Enter amount to be Withdrawn: 23\n",
      " Your Withdrew: 23.0\n",
      " Net Available Balance= 27.0\n"
     ]
    }
   ],
   "source": [
    "class Bank():\n",
    "    def __init__(self):\n",
    "        self.balance=0\n",
    "        \n",
    "  \n",
    "    def depôt(self):\n",
    "        amount=float(input(\"Enter amount to be Deposited: \"))\n",
    "        self.balance += amount\n",
    "        print(\" Amount Deposited:\",amount)\n",
    "  \n",
    "    def retrait(self):\n",
    "        amount = float(input(\"Enter amount to be Withdrawn: \"))\n",
    "        if self.balance>=amount:\n",
    "            self.balance-=amount\n",
    "            print(\" Your Withdrew:\", amount)\n",
    "        else:\n",
    "            print(\" Insufficient balance  \")\n",
    "  \n",
    "    def montant(self):\n",
    "        print(\" Net Available Balance=\",self.balance)\n",
    "  \n",
    "#\n",
    "   \n",
    "\n",
    "s = Bank()\n",
    "s.depôt()\n",
    "s.retrait()\n",
    "s.montant()"
   ]
  },
  {
   "cell_type": "code",
   "execution_count": null,
   "id": "cc7dc729",
   "metadata": {},
   "outputs": [],
   "source": []
  },
  {
   "cell_type": "code",
   "execution_count": null,
   "id": "36e9a8ea",
   "metadata": {},
   "outputs": [],
   "source": []
  }
 ],
 "metadata": {
  "kernelspec": {
   "display_name": "Python 3",
   "language": "python",
   "name": "python3"
  }
 },
 "nbformat": 4,
 "nbformat_minor": 5
}
