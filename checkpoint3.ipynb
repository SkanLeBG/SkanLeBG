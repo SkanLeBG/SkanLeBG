{
 "cells": [
  {
   "cell_type": "code",
   "execution_count": 7,
   "id": "6683c3f1",
   "metadata": {
    "scrolled": true
   },
   "outputs": [
    {
     "name": "stdout",
     "output_type": "stream",
     "text": [
      "a= 2\n",
      "b= 3\n",
      "c= 6\n",
      "36\n"
     ]
    }
   ],
   "source": [
    "#question 1\n",
    "a=int(input(\"a= \")) \n",
    "b=int(input(\"b= \")) \n",
    "c=int(input(\"c= \")) \n",
    "my_list=[a,b,c]\n",
    "my_list= a*b*c\n",
    "print(my_list)"
   ]
  },
  {
   "cell_type": "code",
   "execution_count": 82,
   "id": "6afe252a",
   "metadata": {},
   "outputs": [
    {
     "name": "stdout",
     "output_type": "stream",
     "text": [
      "[(2, 1), (1, 2), (2, 3), (4, 4), (2, 5)]\n"
     ]
    }
   ],
   "source": [
    "#question 2\n",
    "def last(n): return n[-1]\n",
    "\n",
    "def sort_list_last(tuples):\n",
    "  return sorted(tuples, key=last)\n",
    "\n",
    "print(sort_list_last([(2, 5), (1, 2), (4, 4), (2, 3), (2, 1)]))"
   ]
  },
  {
   "cell_type": "code",
   "execution_count": 81,
   "id": "5dc9405a",
   "metadata": {},
   "outputs": [
    {
     "name": "stdout",
     "output_type": "stream",
     "text": [
      "{'a': 400, 'b': 400, 'd': 400, 'c': 300}\n"
     ]
    }
   ],
   "source": [
    "#question 3\n",
    "d1={'a': 100, 'b': 200, 'c':300}\n",
    "d2={'a': 300, 'b': 200, 'd':400}\n",
    "d3=dict(d2)\n",
    "d3.update(d1)\n",
    "for i,j in d1.items():\n",
    "    for x,y in d2.items():\n",
    "        if i==x:\n",
    "            d3[i]=(j+y)\n",
    "print(d3)\n",
    "        \n"
   ]
  },
  {
   "cell_type": "code",
   "execution_count": 1,
   "id": "7c1a63e3",
   "metadata": {},
   "outputs": [
    {
     "name": "stdout",
     "output_type": "stream",
     "text": [
      "Enter number: 8\n",
      "{1: 1, 2: 4, 3: 9, 4: 16, 5: 25, 6: 36, 7: 49, 8: 64}\n"
     ]
    }
   ],
   "source": [
    "#question 4\n",
    "n=int(input(\"Enter number: \"))\n",
    "d1={i:i*i for i in range (1,n+1) }\n",
    "print(d1)\n",
    "    \n",
    "    \n"
   ]
  },
  {
   "cell_type": "code",
   "execution_count": 1,
   "id": "42087aef",
   "metadata": {},
   "outputs": [
    {
     "name": "stdout",
     "output_type": "stream",
     "text": [
      "Enter a number 3\n",
      "Enter a number 5\n",
      "Enter a number 9\n",
      "[('item3', 9.0), ('item2', 5.0), ('item1', 3.0)]\n"
     ]
    }
   ],
   "source": [
    "#question 5\n",
    "item1=float(input(\"Enter a number \"))\n",
    "item2=float(input(\"Enter a number \"))\n",
    "item3=float(input(\"Enter a number \"))\n",
    "list1=[('item1', item1), ('item2', item2), ('item3', item3)]\n",
    "list1.sort()\n",
    "list1=list1[::-1]\n",
    "print(list1)"
   ]
  }
 ],
 "metadata": {
  "kernelspec": {
   "display_name": "Python 3",
   "language": "python",
   "name": "python3"
  },
  "language_info": {
   "codemirror_mode": {
    "name": "ipython",
    "version": 3
   },
   "file_extension": ".py",
   "mimetype": "text/x-python",
   "name": "python",
   "nbconvert_exporter": "python",
   "pygments_lexer": "ipython3",
   "version": "3.8.8"
  }
 },
 "nbformat": 4,
 "nbformat_minor": 5
}
