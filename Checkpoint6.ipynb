{
 "cells": [
  {
   "cell_type": "code",
   "execution_count": 7,
   "id": "63f4a61c",
   "metadata": {},
   "outputs": [
    {
     "data": {
      "text/plain": [
       "[[1, 6, 5], [1, 4, 3]]"
      ]
     },
     "execution_count": 7,
     "metadata": {},
     "output_type": "execute_result"
    }
   ],
   "source": [
    "#question 1\n",
    "import numpy as np\n",
    "new_array=np.array([[1,6,5],[1,4,3]])\n",
    "new_array.tolist()\n"
   ]
  },
  {
   "cell_type": "code",
   "execution_count": 23,
   "id": "d200ce91",
   "metadata": {},
   "outputs": [
    {
     "name": "stdout",
     "output_type": "stream",
     "text": [
      "23\n"
     ]
    }
   ],
   "source": [
    "#question 2\n",
    "import numpy as np\n",
    "a = np.array([[5,2,7],[2,9,1],[3,2,9]])\n",
    "x=a[0,0]\n",
    "y=a[1,1]\n",
    "z=a[2,2]\n",
    "sum1=x+y+z\n",
    "print(sum1)\n"
   ]
  },
  {
   "cell_type": "code",
   "execution_count": 13,
   "id": "8eb195b1",
   "metadata": {},
   "outputs": [
    {
     "name": "stdout",
     "output_type": "stream",
     "text": [
      "Enter a number: 4\n",
      "Values bigger than 4 [20]\n"
     ]
    }
   ],
   "source": [
    "#question 3\n",
    "import numpy as np\n",
    "x = np.array([[0, 4, 2], [20, 3, 1]])\n",
    "y=int(input(\"Enter a number: \"))\n",
    "print(\"Values bigger than\",y, x[x>y])\n"
   ]
  },
  {
   "cell_type": "code",
   "execution_count": 17,
   "id": "a1d04fd3",
   "metadata": {},
   "outputs": [
    {
     "name": "stdout",
     "output_type": "stream",
     "text": [
      "[[ 3  9 10]\n",
      " [12  8 10]]\n"
     ]
    }
   ],
   "source": [
    "#question 4\n",
    "import numpy as np \n",
    "A=np.array([[0,4,7],[3,5,9]])\n",
    "B=np.array([[3,5,3],[9,3,1]])\n",
    "C=A+B\n",
    "print(C)"
   ]
  },
  {
   "cell_type": "code",
   "execution_count": 42,
   "id": "4354063b",
   "metadata": {},
   "outputs": [
    {
     "name": "stdout",
     "output_type": "stream",
     "text": [
      "-2.6666666666666665\n"
     ]
    }
   ],
   "source": [
    "#question 5\n",
    "import statistics\n",
    "from statistics import mean\n",
    "import numpy as np\n",
    "Y=np.array([[5,3,4],[3,6,2],[5,3,1]])\n",
    "Y1=np.mean(Y[0])\n",
    "Y2=np.mean(Y[1])\n",
    "Y3=np.mean(Y[2])\n",
    "Y4=Y1-Y2-Y3\n",
    "print(Y4)\n"
   ]
  },
  {
   "cell_type": "code",
   "execution_count": null,
   "id": "04bd997e",
   "metadata": {},
   "outputs": [],
   "source": []
  },
  {
   "cell_type": "code",
   "execution_count": null,
   "id": "1cbeff81",
   "metadata": {},
   "outputs": [],
   "source": []
  }
 ],
 "metadata": {
  "kernelspec": {
   "display_name": "Python 3",
   "language": "python",
   "name": "python3"
  },
  "language_info": {
   "codemirror_mode": {
    "name": "ipython",
    "version": 3
   },
   "file_extension": ".py",
   "mimetype": "text/x-python",
   "name": "python",
   "nbconvert_exporter": "python",
   "pygments_lexer": "ipython3",
   "version": "3.8.8"
  }
 },
 "nbformat": 4,
 "nbformat_minor": 5
}
