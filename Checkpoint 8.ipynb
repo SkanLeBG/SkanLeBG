{
 "cells": [
  {
   "cell_type": "code",
   "execution_count": 83,
   "id": "3685b49c",
   "metadata": {
    "scrolled": true
   },
   "outputs": [
    {
     "name": "stdout",
     "output_type": "stream",
     "text": [
      "What is Python language?                                                \n",
      "Python is a widely used high-level, general-purpose, interpreted, dynamic programming language.Its design philosophy emphasizes code readability, and its syntax allows programmers to express concepts in fewer lines of code than possible in languages such as C++ or Java. \n",
      "Python supports multiple programming paradigms, including object-oriented, imperative and functional programming or procedural styles. It features a dynamic type system and automatic memory management and has a large and comprehensive standard library.The best way we learn anything is by practice and exercise questions. We  have started this section for those (beginner to intermediate) who are familiar with Python.\n"
     ]
    }
   ],
   "source": [
    "#question 1\n",
    "f = open(\"python.txt\",'r',encoding='utf-8')\n",
    "print(f.read())"
   ]
  },
  {
   "cell_type": "code",
   "execution_count": 84,
   "id": "54bf8252",
   "metadata": {},
   "outputs": [
    {
     "name": "stdout",
     "output_type": "stream",
     "text": [
      "Python is a widely used high-level, general-purpose, interpreted, dynamic programming language.Its design philosophy emphasizes code readability, and its syntax allows programmers to express concepts in fewer lines of code than possible in languages such as C++ or Java. \n",
      "\n"
     ]
    }
   ],
   "source": [
    "#question 2\n",
    "def line (n):\n",
    "    with open(\"python.txt\", \"r\") as f:\n",
    "        lines=f.readlines()\n",
    "    return lines[n]\n",
    "print(line(1))"
   ]
  },
  {
   "cell_type": "code",
   "execution_count": 91,
   "id": "c61b909f",
   "metadata": {},
   "outputs": [
    {
     "name": "stdout",
     "output_type": "stream",
     "text": [
      "Python supports multiple programming paradigms, including object-oriented, imperative and functional programming or procedural styles. It features a dynamic type system and automatic memory management and has a large and comprehensive standard library.The best way we learn anything is by practice and exercise questions. We  have started this section for those (beginner to intermediate) who are familiar with Python.\n"
     ]
    }
   ],
   "source": [
    "#question 3\n",
    "def line (n):\n",
    "    with open(\"python.txt\", \"r\") as f:\n",
    "        lines=f.readlines()\n",
    "    return lines[n]\n",
    "print(line(2))\n"
   ]
  },
  {
   "cell_type": "code",
   "execution_count": 23,
   "id": "5c6c47c6",
   "metadata": {},
   "outputs": [
    {
     "name": "stdout",
     "output_type": "stream",
     "text": [
      "148\n"
     ]
    }
   ],
   "source": [
    "#question 4\n",
    "def count_words(file):\n",
    "    with open(file) as f:\n",
    "        data = f.read()\n",
    "        return len(data.split(\" \"))\n",
    "print(count_words(\"python.txt\"))\n",
    "    \n"
   ]
  },
  {
   "cell_type": "code",
   "execution_count": 92,
   "id": "c4f5d55f",
   "metadata": {},
   "outputs": [
    {
     "name": "stdout",
     "output_type": "stream",
     "text": [
      "Python is a widely used high-level, general-purpose, interpreted, dynamic programming language.Its design philosophy emphasizes code readability, and its syntax allows programmers to express concepts in fewer lines of code than possible in languages such as C++ or Java. \n",
      "\n"
     ]
    }
   ],
   "source": [
    "#question 5\n",
    "def line (n):\n",
    "    with open(\"python.txt\", \"r\") as f:\n",
    "        lines=f.readlines()\n",
    "    return lines[n]\n",
    "print(line(1))"
   ]
  },
  {
   "cell_type": "code",
   "execution_count": null,
   "id": "0f1f086c",
   "metadata": {},
   "outputs": [],
   "source": []
  },
  {
   "cell_type": "code",
   "execution_count": null,
   "id": "33e0d0be",
   "metadata": {},
   "outputs": [],
   "source": []
  }
 ],
 "metadata": {
  "kernelspec": {
   "display_name": "Python 3",
   "language": "python",
   "name": "python3"
  },
  "language_info": {
   "codemirror_mode": {
    "name": "ipython",
    "version": 3
   },
   "file_extension": ".py",
   "mimetype": "text/x-python",
   "name": "python",
   "nbconvert_exporter": "python",
   "pygments_lexer": "ipython3",
   "version": "3.8.8"
  }
 },
 "nbformat": 4,
 "nbformat_minor": 5
}
