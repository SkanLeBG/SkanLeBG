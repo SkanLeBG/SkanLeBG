{
 "cells": [
  {
   "cell_type": "code",
   "execution_count": 48,
   "id": "51a77b61",
   "metadata": {},
   "outputs": [
    {
     "name": "stdout",
     "output_type": "stream",
     "text": [
      "1000  is the max of these three numbers\n"
     ]
    }
   ],
   "source": [
    "#question 1\n",
    "def maximum(x,y,z):\n",
    "\n",
    "    if int(x>y) and (x>z): \n",
    "        print(x,\"is the max of these three numbers\")\n",
    "    elif (y>x) and (y>z):\n",
    "        print(y,\" is the max of these three numbers\")\n",
    "    else:\n",
    "        print(z,\" is the max of these three numbers\")\n",
    "maximum(-1,1000,3)"
   ]
  },
  {
   "cell_type": "code",
   "execution_count": 22,
   "id": "22c54a57",
   "metadata": {},
   "outputs": [
    {
     "name": "stdout",
     "output_type": "stream",
     "text": [
      "52 28\n"
     ]
    }
   ],
   "source": [
    "#question 2\n",
    "def calculation(x,y):\n",
    "    A=x+y\n",
    "    S=x-y\n",
    "    print(A,S)\n",
    "calculation(40,12)"
   ]
  },
  {
   "cell_type": "code",
   "execution_count": 13,
   "id": "0b8e80ae",
   "metadata": {},
   "outputs": [
    {
     "name": "stdout",
     "output_type": "stream",
     "text": [
      "Enter number of elements : 4\n",
      "Enter the number in the list: 3\n",
      "Enter the number in the list: 2\n",
      "Enter the number in the list: 3\n",
      "Enter the number in the list: 4\n",
      "12\n",
      "Enter number of elements : 5\n",
      "Enter the number in the list: 2\n",
      "Enter the number in the list: 3\n",
      "Enter the number in the list: 4\n",
      "Enter the number in the list: 3\n",
      "Enter the number in the list: 2\n",
      "144\n",
      "With your this two lists we can make this list= [3, 2, 3, 4, 2, 3, 4, 3, 2]\n",
      "[2, 4, 2, 4, 2]\n",
      "[3, 3, 3, 3]\n",
      "the sum of the even number =  14\n",
      "the multiplication of the odd numbers =  81\n"
     ]
    }
   ],
   "source": [
    "#question 3\n",
    "list=[]\n",
    "list3=[]\n",
    "n = int(input(\"Enter number of elements : \"))\n",
    "for i in range(0, n):\n",
    "    element = int(input(\"Enter the number in the list: \"))\n",
    "    list.append(element)\n",
    "    list3.append(element)\n",
    "def listsum(list):\n",
    "    res=0\n",
    "    for i in list:\n",
    "        res += i\n",
    "    return res\n",
    "print(listsum(list)) \n",
    "\n",
    "list=[]\n",
    "n2 = int(input(\"Enter number of elements : \"))\n",
    "for f in range (0, n2):\n",
    "    element2 = int(input(\"Enter the number in the list: \"))\n",
    "    list.append(element2)\n",
    "    list3.append(element2)\n",
    "def listmult(list):\n",
    "    res=1\n",
    "    for i in list:\n",
    "        res *= i\n",
    "    return res\n",
    "print(listmult(list))\n",
    "\n",
    "print(\"With your this two lists we can make this list=\",list3)\n",
    "even=[]\n",
    "odd=[]\n",
    "for x in list3:\n",
    "    if(x%2==0):\n",
    "        even.append(x)\n",
    "    else:\n",
    "        odd.append(x)\n",
    "print (even)\n",
    "print (odd)\n",
    "def addmult():\n",
    "    sum(even)\n",
    "    res=1\n",
    "    for i in odd:\n",
    "        res*= i\n",
    "    return res\n",
    "print (\"the sum of the even number = \",sum(even))\n",
    "print(\"the multiplication of the odd numbers = \",addmult())\n",
    "\n",
    "    \n",
    "        \n",
    "\n",
    "\n"
   ]
  },
  {
   "cell_type": "code",
   "execution_count": null,
   "id": "bef6c90f",
   "metadata": {},
   "outputs": [],
   "source": [
    "#question 4\n",
    "items=[n for n in input().split('-')]\n",
    "items.sort()\n",
    "print('-'.join(items))\n"
   ]
  },
  {
   "cell_type": "code",
   "execution_count": 20,
   "id": "817a59ba",
   "metadata": {},
   "outputs": [
    {
     "name": "stdout",
     "output_type": "stream",
     "text": [
      "100,150,180\n",
      "18,22,24\n"
     ]
    }
   ],
   "source": [
    "#question5\n",
    "import math\n",
    "c=50\n",
    "h=30\n",
    "value = []\n",
    "items=[x for x in input().split(',')]\n",
    "for d in items:\n",
    "    value.append(str(int(round(math.sqrt(2*c*float(d)/h)))))\n",
    "\n",
    "print(','.join(value))"
   ]
  }
 ],
 "metadata": {
  "kernelspec": {
   "display_name": "Python 3",
   "language": "python",
   "name": "python3"
  },
  "language_info": {
   "codemirror_mode": {
    "name": "ipython",
    "version": 3
   },
   "file_extension": ".py",
   "mimetype": "text/x-python",
   "name": "python",
   "nbconvert_exporter": "python",
   "pygments_lexer": "ipython3",
   "version": "3.8.8"
  }
 },
 "nbformat": 4,
 "nbformat_minor": 5
}
