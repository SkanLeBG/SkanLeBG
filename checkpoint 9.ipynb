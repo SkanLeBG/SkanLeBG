{
 "cells": [
  {
   "cell_type": "code",
   "execution_count": 39,
   "id": "ac9c78bd",
   "metadata": {},
   "outputs": [
    {
     "name": "stdout",
     "output_type": "stream",
     "text": [
      "enter the number that you search: 3\n",
      "the middle is 3 index= 2\n",
      "Your number is on the list: 3 index= 2\n"
     ]
    },
    {
     "ename": "SystemExit",
     "evalue": "",
     "output_type": "error",
     "traceback": [
      "An exception has occurred, use %tb to see the full traceback.\n",
      "\u001b[0;31mSystemExit\u001b[0m\n"
     ]
    }
   ],
   "source": [
    "#questiion 1\n",
    "list1=[1,2,3,5,8]\n",
    "n=int(input(\"enter the number that you search: \")) \n",
    "h=len(list1)\n",
    "import sys\n",
    "def binery_search(list1,n,h):\n",
    "    for f in list1:\n",
    "        if n not in list1:\n",
    "            print(\"This number isn't on the list: \",n)\n",
    "            sys.exit()\n",
    "    \n",
    "    \n",
    "    mid = int(h/2)\n",
    "    print(\"the middle is\",list1[mid],\"index=\",mid)\n",
    "    if n==list1[mid]:\n",
    "        print(\"Your number is on the list:\",list1[mid],\"index=\",mid)\n",
    "        sys.exit()\n",
    "    elif n<list1[mid]:\n",
    "        mid=mid-int(1+mid/2)\n",
    "        print(\"the middle is\",list1[mid],\"index=\",mid)\n",
    "        if n==list1[mid]:\n",
    "            print(\"Your number is on the list:\",list1[mid],\"index=\",mid)\n",
    "            sys.exit()\n",
    "    else:\n",
    "        mid=mid+int(mid/2)+1\n",
    "        print(\"the middle is\",list1[mid],\"index=\",mid)\n",
    "        if n==list1[mid]:\n",
    "            print(\"Your number is on the list:\",list1[mid],\"index=\",mid)\n",
    "    if n<list1[mid]:\n",
    "        mid=mid-int(mid/2)\n",
    "        print(\"the middle is\",list1[mid],\"index=\",mid)\n",
    "        if n==list1[mid]:\n",
    "            print(\"Your number is on the list:\",list1[mid],\"indes=\",mid)\n",
    "            sys.exit()\n",
    "    else:\n",
    "        mid=mid+(int(mid/2))\n",
    "        print(\"the middle is\",list1[mid],\"index=\",mid)\n",
    "        if n==list1[mid]:\n",
    "            print(\"Your number is on the list:\",list1[mid],\"index=\",mid)\n",
    "            sys.exit()\n",
    "    if n<list1[mid]:\n",
    "        if n!=list1[mid]:\n",
    "            print(\"Your number is on the list:\",list1[mid-1],\"index=\",mid-1)\n",
    "            sys.exit()\n",
    "    if n>list1[mid]:\n",
    "        if n!=list1[mid]:\n",
    "            print(\"Your number is on the list:\",list1[mid+1],\"index=\",mid+1)\n",
    "            sys.exit()\n",
    "    if n<list1[mid]:\n",
    "        if n!=list1[mid]:\n",
    "            print(\"Your number is on the list:\",list1[mid-1],\"index=\",mid-1)\n",
    "            sys.exit()\n",
    "    if n>list1[mid]:\n",
    "        if n!=list1[mid]:\n",
    "            print(\"Your number is on the list:\",list1[mid+1],\"index=\",mid+1)\n",
    "            sys.exit()\n",
    "binery_search(list1,n,h)"
   ]
  },
  {
   "cell_type": "code",
   "execution_count": 7,
   "id": "2179cf6b",
   "metadata": {},
   "outputs": [
    {
     "name": "stdout",
     "output_type": "stream",
     "text": [
      "x= 3\n",
      "y= 4\n"
     ]
    },
    {
     "data": {
      "text/plain": [
       "81"
      ]
     },
     "execution_count": 7,
     "metadata": {},
     "output_type": "execute_result"
    }
   ],
   "source": [
    "#question 2\n",
    "def power(x,y):\n",
    "    z=x**y\n",
    "    return z\n",
    "x=int(input(\"x= \"))\n",
    "y=int(input(\"y= \"))\n",
    "power(x,y)"
   ]
  },
  {
   "cell_type": "code",
   "execution_count": 13,
   "id": "7ee11430",
   "metadata": {},
   "outputs": [
    {
     "name": "stdout",
     "output_type": "stream",
     "text": [
      "[29, 13, 22, 37, 52, 49, 46, 71, 56]\n",
      "[13, 29, 22, 37, 52, 49, 46, 71, 56]\n",
      "[13, 22, 29, 37, 52, 49, 46, 71, 56]\n",
      "[13, 22, 29, 37, 49, 52, 46, 71, 56]\n",
      "[13, 22, 29, 37, 49, 46, 52, 71, 56]\n",
      "[13, 22, 29, 37, 49, 46, 52, 56, 71]\n"
     ]
    }
   ],
   "source": [
    "#question 3\n",
    "def bubble_sort(list1):\n",
    "    for i in range(len(list1)-1,0,-1):\n",
    "        for n in range(i):\n",
    "            if list1[n]>list1[n+1]:\n",
    "                print(list1)\n",
    "                temp = list1[n]\n",
    "                list1[n] = list1[n+1]\n",
    "                list1[n+1] = temp\n",
    "                \n",
    "    \n",
    "                \n",
    "list1=[29,13,22,37,52,49,46,71,56]\n",
    "bubble_sort(list1)\n",
    "\n"
   ]
  },
  {
   "cell_type": "code",
   "execution_count": 71,
   "id": "258a8f31",
   "metadata": {},
   "outputs": [
    {
     "name": "stdout",
     "output_type": "stream",
     "text": [
      "[13, 22, 29, 37, 46, 49, 52, 56, 71]\n"
     ]
    }
   ],
   "source": [
    "#question 4\n",
    "def merge_sort(nlist):\n",
    "    if len(nlist)>1:\n",
    "        mid=len(nlist)//2\n",
    "        left=nlist[:mid]\n",
    "        right=nlist[mid:]\n",
    "        \n",
    "        merge_sort(left)\n",
    "        merge_sort(right)\n",
    "        i=0\n",
    "        j=0\n",
    "        k=0\n",
    "        while i<len(left) and j<len(right):\n",
    "            if left[i] < right[j]:\n",
    "                nlist[k] = left[i]\n",
    "                i += 1\n",
    "            else:\n",
    "                nlist[k] = right[j]\n",
    "                j += 1\n",
    "            k += 1\n",
    "        while i < len(left):\n",
    "            nlist[k] = left[i]\n",
    "            i += 1\n",
    "            k += 1\n",
    "        while j < len(right):\n",
    "            nlist[k]=right[j]\n",
    "            j += 1\n",
    "            k += 1\n",
    "nlist=[29,13,22,37,52,49,46,71,56] \n",
    "merge_sort(nlist)\n",
    "print (nlist)"
   ]
  },
  {
   "cell_type": "code",
   "execution_count": 6,
   "id": "12087c4f",
   "metadata": {},
   "outputs": [
    {
     "name": "stdout",
     "output_type": "stream",
     "text": [
      "Sorted array: [1, 5, 7, 8, 9, 10]\n"
     ]
    }
   ],
   "source": [
    "#question 5\n",
    "def partition(start, end, array):\n",
    "    p= start\n",
    "    pivot = array[p]\n",
    "    while start < end:\n",
    "        while start < len(array) and array[start] <= pivot:\n",
    "            start += 1\n",
    "        while array[end] > pivot:\n",
    "            end -= 1\n",
    "        if(start < end):\n",
    "            array[start], array[end] = array[end], array[start]\n",
    "    array[end], array[pivot_index] = array[pivot_index], array[end]\n",
    "    \n",
    "    return end\n",
    "\n",
    "def quick_sort(start, end, array):\n",
    "     \n",
    "    if (start < end):\n",
    "         \n",
    "        p = partition(start, end, array)\n",
    "         \n",
    "        quick_sort(start, p - 1, array)\n",
    "        quick_sort(p + 1, end, array)\n",
    "         \n",
    "\n",
    "array = [ 10, 7, 8, 9, 1, 5 ]\n",
    "quick_sort(0, len(array) - 1, array)\n",
    " \n",
    "print(\"Sorted array:\",array)\n",
    "     \n",
    "\n"
   ]
  },
  {
   "cell_type": "code",
   "execution_count": null,
   "id": "8aeefd06",
   "metadata": {},
   "outputs": [],
   "source": []
  }
 ],
 "metadata": {
  "kernelspec": {
   "display_name": "Python 3",
   "language": "python",
   "name": "python3"
  },
  "language_info": {
   "codemirror_mode": {
    "name": "ipython",
    "version": 3
   },
   "file_extension": ".py",
   "mimetype": "text/x-python",
   "name": "python",
   "nbconvert_exporter": "python",
   "pygments_lexer": "ipython3",
   "version": "3.8.8"
  }
 },
 "nbformat": 4,
 "nbformat_minor": 5
}
